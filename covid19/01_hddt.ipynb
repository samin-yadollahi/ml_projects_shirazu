{
 "cells": [
  {
   "cell_type": "markdown",
   "id": "0e0a5c2e-540e-4974-a074-c443cfbf6d41",
   "metadata": {
    "jp-MarkdownHeadingCollapsed": true
   },
   "source": [
    "# 1- importing packages:"
   ]
  },
  {
   "cell_type": "code",
   "execution_count": 1,
   "id": "b5fd6cc6-6075-4405-85c8-529c8b89ef33",
   "metadata": {},
   "outputs": [],
   "source": [
    "import pandas as pd\n",
    "import numpy as np\n",
    "import matplotlib as plt\n",
    "import seaborn as sns"
   ]
  },
  {
   "cell_type": "markdown",
   "id": "25c61055-c616-4f28-abb0-6a984a4ff4bc",
   "metadata": {
    "jp-MarkdownHeadingCollapsed": true
   },
   "source": [
    "# 2- Loading dataset:"
   ]
  },
  {
   "cell_type": "code",
   "execution_count": 2,
   "id": "7457aa2a-bb07-4e2e-8c33-a77ec4a749b8",
   "metadata": {},
   "outputs": [],
   "source": [
    "data_path = \"Covid19HDDT.csv\""
   ]
  },
  {
   "cell_type": "code",
   "execution_count": 3,
   "id": "70d58ed2-d077-4eb8-94fd-1b36672070e5",
   "metadata": {},
   "outputs": [
    {
     "data": {
      "text/html": [
       "<div>\n",
       "<style scoped>\n",
       "    .dataframe tbody tr th:only-of-type {\n",
       "        vertical-align: middle;\n",
       "    }\n",
       "\n",
       "    .dataframe tbody tr th {\n",
       "        vertical-align: top;\n",
       "    }\n",
       "\n",
       "    .dataframe thead th {\n",
       "        text-align: right;\n",
       "    }\n",
       "</style>\n",
       "<table border=\"1\" class=\"dataframe\">\n",
       "  <thead>\n",
       "    <tr style=\"text-align: right;\">\n",
       "      <th></th>\n",
       "      <th>sex</th>\n",
       "      <th>age</th>\n",
       "      <th>country</th>\n",
       "      <th>province</th>\n",
       "      <th>city</th>\n",
       "      <th>infection_case</th>\n",
       "      <th>infection_order</th>\n",
       "      <th>elementary_school_count</th>\n",
       "      <th>kindergarten_count</th>\n",
       "      <th>university_count</th>\n",
       "      <th>...</th>\n",
       "      <th>elderly_alone_ratio</th>\n",
       "      <th>nursing_home_count</th>\n",
       "      <th>avg_temp</th>\n",
       "      <th>min_temp</th>\n",
       "      <th>max_temp</th>\n",
       "      <th>precipitation</th>\n",
       "      <th>max_wind_speed</th>\n",
       "      <th>most_wind_direction</th>\n",
       "      <th>avg_relative_humidity</th>\n",
       "      <th>label</th>\n",
       "    </tr>\n",
       "  </thead>\n",
       "  <tbody>\n",
       "    <tr>\n",
       "      <th>0</th>\n",
       "      <td>0</td>\n",
       "      <td>0</td>\n",
       "      <td>0</td>\n",
       "      <td>0</td>\n",
       "      <td>0</td>\n",
       "      <td>0</td>\n",
       "      <td>0.0</td>\n",
       "      <td>0.0</td>\n",
       "      <td>0.0</td>\n",
       "      <td>0.0</td>\n",
       "      <td>...</td>\n",
       "      <td>0.0</td>\n",
       "      <td>0.0</td>\n",
       "      <td>0.0</td>\n",
       "      <td>0.0</td>\n",
       "      <td>0.0</td>\n",
       "      <td>0.0</td>\n",
       "      <td>0.0</td>\n",
       "      <td>0.0</td>\n",
       "      <td>0.0</td>\n",
       "      <td>0</td>\n",
       "    </tr>\n",
       "    <tr>\n",
       "      <th>1</th>\n",
       "      <td>1</td>\n",
       "      <td>1</td>\n",
       "      <td>1</td>\n",
       "      <td>0</td>\n",
       "      <td>1</td>\n",
       "      <td>1</td>\n",
       "      <td>1.0</td>\n",
       "      <td>0.0</td>\n",
       "      <td>0.0</td>\n",
       "      <td>0.0</td>\n",
       "      <td>...</td>\n",
       "      <td>0.0</td>\n",
       "      <td>0.0</td>\n",
       "      <td>0.0</td>\n",
       "      <td>0.0</td>\n",
       "      <td>0.0</td>\n",
       "      <td>1.0</td>\n",
       "      <td>1.0</td>\n",
       "      <td>1.0</td>\n",
       "      <td>0.0</td>\n",
       "      <td>1</td>\n",
       "    </tr>\n",
       "    <tr>\n",
       "      <th>2</th>\n",
       "      <td>0</td>\n",
       "      <td>2</td>\n",
       "      <td>0</td>\n",
       "      <td>0</td>\n",
       "      <td>2</td>\n",
       "      <td>1</td>\n",
       "      <td>0.0</td>\n",
       "      <td>0.0</td>\n",
       "      <td>0.0</td>\n",
       "      <td>0.0</td>\n",
       "      <td>...</td>\n",
       "      <td>0.0</td>\n",
       "      <td>0.0</td>\n",
       "      <td>0.0</td>\n",
       "      <td>0.0</td>\n",
       "      <td>0.0</td>\n",
       "      <td>0.0</td>\n",
       "      <td>14.0</td>\n",
       "      <td>2.0</td>\n",
       "      <td>1.0</td>\n",
       "      <td>0</td>\n",
       "    </tr>\n",
       "    <tr>\n",
       "      <th>3</th>\n",
       "      <td>0</td>\n",
       "      <td>1</td>\n",
       "      <td>0</td>\n",
       "      <td>0</td>\n",
       "      <td>3</td>\n",
       "      <td>2</td>\n",
       "      <td>0.0</td>\n",
       "      <td>0.0</td>\n",
       "      <td>0.0</td>\n",
       "      <td>0.0</td>\n",
       "      <td>...</td>\n",
       "      <td>0.0</td>\n",
       "      <td>0.0</td>\n",
       "      <td>0.0</td>\n",
       "      <td>0.0</td>\n",
       "      <td>0.0</td>\n",
       "      <td>0.0</td>\n",
       "      <td>14.0</td>\n",
       "      <td>3.0</td>\n",
       "      <td>1.0</td>\n",
       "      <td>0</td>\n",
       "    </tr>\n",
       "    <tr>\n",
       "      <th>4</th>\n",
       "      <td>1</td>\n",
       "      <td>3</td>\n",
       "      <td>0</td>\n",
       "      <td>0</td>\n",
       "      <td>4</td>\n",
       "      <td>3</td>\n",
       "      <td>2.0</td>\n",
       "      <td>0.0</td>\n",
       "      <td>0.0</td>\n",
       "      <td>0.0</td>\n",
       "      <td>...</td>\n",
       "      <td>0.0</td>\n",
       "      <td>0.0</td>\n",
       "      <td>0.0</td>\n",
       "      <td>0.0</td>\n",
       "      <td>0.0</td>\n",
       "      <td>1.0</td>\n",
       "      <td>14.0</td>\n",
       "      <td>4.0</td>\n",
       "      <td>1.0</td>\n",
       "      <td>1</td>\n",
       "    </tr>\n",
       "  </tbody>\n",
       "</table>\n",
       "<p>5 rows × 22 columns</p>\n",
       "</div>"
      ],
      "text/plain": [
       "   sex  age  country  province  city  infection_case  infection_order  \\\n",
       "0    0    0        0         0     0               0              0.0   \n",
       "1    1    1        1         0     1               1              1.0   \n",
       "2    0    2        0         0     2               1              0.0   \n",
       "3    0    1        0         0     3               2              0.0   \n",
       "4    1    3        0         0     4               3              2.0   \n",
       "\n",
       "   elementary_school_count  kindergarten_count  university_count  ...  \\\n",
       "0                      0.0                 0.0               0.0  ...   \n",
       "1                      0.0                 0.0               0.0  ...   \n",
       "2                      0.0                 0.0               0.0  ...   \n",
       "3                      0.0                 0.0               0.0  ...   \n",
       "4                      0.0                 0.0               0.0  ...   \n",
       "\n",
       "   elderly_alone_ratio  nursing_home_count  avg_temp  min_temp  max_temp  \\\n",
       "0                  0.0                 0.0       0.0       0.0       0.0   \n",
       "1                  0.0                 0.0       0.0       0.0       0.0   \n",
       "2                  0.0                 0.0       0.0       0.0       0.0   \n",
       "3                  0.0                 0.0       0.0       0.0       0.0   \n",
       "4                  0.0                 0.0       0.0       0.0       0.0   \n",
       "\n",
       "   precipitation  max_wind_speed  most_wind_direction  avg_relative_humidity  \\\n",
       "0            0.0             0.0                  0.0                    0.0   \n",
       "1            1.0             1.0                  1.0                    0.0   \n",
       "2            0.0            14.0                  2.0                    1.0   \n",
       "3            0.0            14.0                  3.0                    1.0   \n",
       "4            1.0            14.0                  4.0                    1.0   \n",
       "\n",
       "   label  \n",
       "0      0  \n",
       "1      1  \n",
       "2      0  \n",
       "3      0  \n",
       "4      1  \n",
       "\n",
       "[5 rows x 22 columns]"
      ]
     },
     "execution_count": 3,
     "metadata": {},
     "output_type": "execute_result"
    }
   ],
   "source": [
    "df = pd.read_csv(data_path)\n",
    "df.head()"
   ]
  },
  {
   "cell_type": "code",
   "execution_count": 4,
   "id": "51df54cc-81e8-43ac-b25c-e3ea8e382e78",
   "metadata": {},
   "outputs": [
    {
     "name": "stdout",
     "output_type": "stream",
     "text": [
      "<class 'pandas.core.frame.DataFrame'>\n",
      "RangeIndex: 50729 entries, 0 to 50728\n",
      "Data columns (total 22 columns):\n",
      " #   Column                    Non-Null Count  Dtype  \n",
      "---  ------                    --------------  -----  \n",
      " 0   sex                       50729 non-null  int64  \n",
      " 1   age                       50729 non-null  int64  \n",
      " 2   country                   50729 non-null  int64  \n",
      " 3   province                  50729 non-null  int64  \n",
      " 4   city                      50729 non-null  int64  \n",
      " 5   infection_case            50729 non-null  int64  \n",
      " 6   infection_order           50729 non-null  float64\n",
      " 7   elementary_school_count   50729 non-null  float64\n",
      " 8   kindergarten_count        50729 non-null  float64\n",
      " 9   university_count          50729 non-null  float64\n",
      " 10  academy_ratio             50729 non-null  float64\n",
      " 11  elderly_population_ratio  50729 non-null  float64\n",
      " 12  elderly_alone_ratio       50729 non-null  float64\n",
      " 13  nursing_home_count        50729 non-null  float64\n",
      " 14  avg_temp                  50729 non-null  float64\n",
      " 15  min_temp                  50729 non-null  float64\n",
      " 16  max_temp                  50729 non-null  float64\n",
      " 17  precipitation             50729 non-null  float64\n",
      " 18  max_wind_speed            50729 non-null  float64\n",
      " 19  most_wind_direction       50729 non-null  float64\n",
      " 20  avg_relative_humidity     50729 non-null  float64\n",
      " 21  label                     50729 non-null  int64  \n",
      "dtypes: float64(15), int64(7)\n",
      "memory usage: 8.5 MB\n"
     ]
    }
   ],
   "source": [
    "df.info()"
   ]
  },
  {
   "cell_type": "code",
   "execution_count": 13,
   "id": "8e76766b-1d3c-487a-b1d5-eddc97bf9835",
   "metadata": {},
   "outputs": [
    {
     "data": {
      "text/plain": [
       "sex                          2\n",
       "age                          7\n",
       "country                      2\n",
       "province                     2\n",
       "city                        19\n",
       "infection_case               7\n",
       "infection_order              4\n",
       "elementary_school_count      2\n",
       "kindergarten_count           2\n",
       "university_count             2\n",
       "academy_ratio                2\n",
       "elderly_population_ratio     2\n",
       "elderly_alone_ratio          2\n",
       "nursing_home_count           2\n",
       "avg_temp                     2\n",
       "min_temp                     2\n",
       "max_temp                     2\n",
       "precipitation                2\n",
       "max_wind_speed              14\n",
       "most_wind_direction         17\n",
       "avg_relative_humidity        2\n",
       "label                        3\n",
       "dtype: int64"
      ]
     },
     "execution_count": 13,
     "metadata": {},
     "output_type": "execute_result"
    }
   ],
   "source": [
    "df.nunique()"
   ]
  },
  {
   "cell_type": "code",
   "execution_count": 6,
   "id": "6bc54a1c-6b09-457e-9bd4-a72e1b24fe33",
   "metadata": {},
   "outputs": [
    {
     "name": "stdout",
     "output_type": "stream",
     "text": [
      "sex [0, 1]\n",
      "age [0, 1, 2, 3, 4, 5, 6]\n",
      "country [0, 1]\n",
      "province [0, 1]\n",
      "city [0, 1, 2, 3, 4, 5, 6, 7, 8, 9, 10, 11, 12, 13, 14, 15, 16, 17, 18]\n",
      "infection_case [0, 1, 2, 3, 4, 5, 6]\n",
      "infection_order [0.0, 1.0, 2.0, 3.0]\n",
      "elementary_school_count [0.0, 1.0]\n",
      "kindergarten_count [0.0, 1.0]\n",
      "university_count [0.0, 1.0]\n",
      "academy_ratio [0.0, 1.0]\n",
      "elderly_population_ratio [0.0, 1.0]\n",
      "elderly_alone_ratio [0.0, 1.0]\n",
      "nursing_home_count [0.0, 1.0]\n",
      "avg_temp [0.0, 1.0]\n",
      "min_temp [0.0, 1.0]\n",
      "max_temp [0.0, 1.0]\n",
      "precipitation [0.0, 1.0]\n",
      "max_wind_speed [0.0, 1.0, 14.0, 3.0, 4.0, 5.0, 6.0, 7.0, 8.0, 9.0, 10.0, 11.0, 12.0, 13.0]\n",
      "most_wind_direction [0.0, 1.0, 2.0, 3.0, 4.0, 5.0, 6.0, 7.0, 8.0, 9.0, 10.0, 11.0, 12.0, 13.0, 14.0, 15.0, 16.0]\n",
      "avg_relative_humidity [0.0, 1.0]\n",
      "label [0, 1, 2]\n"
     ]
    }
   ],
   "source": [
    "cols = list(df.columns)\n",
    "for i in cols:\n",
    "    print(i, list(df[i].unique()))"
   ]
  },
  {
   "cell_type": "markdown",
   "id": "dd9ea551-4a9c-44ef-b293-fad0065bc440",
   "metadata": {},
   "source": [
    "## 2.1- number of each class labels"
   ]
  },
  {
   "cell_type": "code",
   "execution_count": 8,
   "id": "41013477-9d98-4454-b3e1-f187cc711e76",
   "metadata": {},
   "outputs": [
    {
     "name": "stdout",
     "output_type": "stream",
     "text": [
      "[(12891, 4000, 33838)]\n"
     ]
    }
   ],
   "source": [
    "class_label_counts = []\n",
    "class_1_counts = df['label'].value_counts().get(1)\n",
    "class_2_counts = df['label'].value_counts().get(2)\n",
    "class_0_counts = df['label'].value_counts().get(0)\n",
    "\n",
    "class_label_counts.append((class_1_counts, class_2_counts, class_0_counts))\n",
    "print(class_label_counts)"
   ]
  },
  {
   "cell_type": "markdown",
   "id": "c4d70a97-2e59-4a0f-92eb-41f1dde165a0",
   "metadata": {
    "jp-MarkdownHeadingCollapsed": true
   },
   "source": [
    "# 3- Two-class HDDT:"
   ]
  },
  {
   "cell_type": "code",
   "execution_count": 37,
   "id": "1acb5006-e5b8-4788-95c5-b89550177e99",
   "metadata": {},
   "outputs": [],
   "source": [
    "class TwoClassHDDT:\n",
    "    def __init__(self, max_depth=5):\n",
    "        self.max_depth = max_depth\n",
    "        self.tree = None\n",
    "\n",
    "    def _hellinger_distance(self, p_left, p_right):\n",
    "        return np.sqrt((np.sqrt(p_left) - np.sqrt(p_right))**2 + \n",
    "                       (np.sqrt(1 - p_left) - np.sqrt(1 - p_right))**2)\n",
    "\n",
    "    def _find_best_split(self, X, y):\n",
    "        best_feature, best_threshold = None, None\n",
    "        best_distance = -1\n",
    "\n",
    "        for feature in range(X.shape[1]):\n",
    "            thresholds = np.unique(X[:, feature])\n",
    "            for threshold in thresholds:\n",
    "                left_mask = X[:, feature] <= threshold\n",
    "                right_mask = ~left_mask\n",
    "\n",
    "                if np.sum(left_mask) == 0 or np.sum(right_mask) == 0:\n",
    "                    continue\n",
    "\n",
    "                # Class probabilities (binary)\n",
    "                p_left = np.mean(y[left_mask])\n",
    "                p_right = np.mean(y[right_mask])\n",
    "\n",
    "                distance = self._hellinger_distance(p_left, p_right)\n",
    "                if distance > best_distance:\n",
    "                    best_distance = distance\n",
    "                    best_feature = feature\n",
    "                    best_threshold = threshold\n",
    "\n",
    "        return best_feature, best_threshold\n",
    "\n",
    "    def _build_tree(self, X, y, depth=0):\n",
    "        if depth >= self.max_depth or len(np.unique(y)) == 1:\n",
    "            return np.mean(y)  # Leaf node: probability of class 1\n",
    "\n",
    "        feature, threshold = self._find_best_split(X, y)\n",
    "        if feature is None:\n",
    "            return np.mean(y)\n",
    "\n",
    "        left_mask = X[:, feature] <= threshold\n",
    "        right_mask = ~left_mask\n",
    "\n",
    "        left_subtree = self._build_tree(X[left_mask], y[left_mask], depth + 1)\n",
    "        right_subtree = self._build_tree(X[right_mask], y[right_mask], depth + 1)\n",
    "\n",
    "        return (feature, threshold, left_subtree, right_subtree)\n",
    "\n",
    "    def fit(self, X, y):\n",
    "        self.tree = self._build_tree(X, y)\n",
    "        return self\n",
    "\n",
    "    def predict_proba(self, X):\n",
    "        return np.array([self._predict_single(x) for x in X])\n",
    "\n",
    "    def _predict_single(self, x, node=None):\n",
    "        if node is None:\n",
    "            node = self.tree\n",
    "\n",
    "        if isinstance(node, (float, np.float64)):\n",
    "            return node  # Probability of class 1\n",
    "\n",
    "        feature, threshold, left, right = node\n",
    "        if x[feature] <= threshold:\n",
    "            return self._predict_single(x, left)\n",
    "        else:\n",
    "            return self._predict_single(x, right)\n",
    "\n",
    "    def predict(self, X, threshold=0.5):\n",
    "        return (self.predict_proba(X) >= threshold).astype(int)"
   ]
  },
  {
   "cell_type": "markdown",
   "id": "730860ce-f0b2-40b1-8199-0affda91ab51",
   "metadata": {
    "jp-MarkdownHeadingCollapsed": true
   },
   "source": [
    "# 4- Find the minority class label:"
   ]
  },
  {
   "cell_type": "code",
   "execution_count": 25,
   "id": "97f8741f-ae3a-4b35-84a9-769e3ffdc5bc",
   "metadata": {},
   "outputs": [
    {
     "data": {
      "text/plain": [
       "2"
      ]
     },
     "execution_count": 25,
     "metadata": {},
     "output_type": "execute_result"
    }
   ],
   "source": [
    "minority_label = np.argmin(np.bincount(df['label']))\n",
    "minority_label"
   ]
  },
  {
   "cell_type": "code",
   "execution_count": 50,
   "id": "ac477da5-911b-4059-8f20-3f531cc1c159",
   "metadata": {},
   "outputs": [],
   "source": [
    "X = df.drop(columns='label').values\n",
    "y = df['label'].values"
   ]
  },
  {
   "cell_type": "code",
   "execution_count": 52,
   "id": "71d4fbed-5d6f-4a8e-9359-d28fecfb78a6",
   "metadata": {},
   "outputs": [
    {
     "data": {
      "text/plain": [
       "array([0, 0, 0, ..., 1, 1, 1])"
      ]
     },
     "execution_count": 52,
     "metadata": {},
     "output_type": "execute_result"
    }
   ],
   "source": [
    "y_bin = np.where(y==minority_label, 1, 0)\n",
    "y_bin"
   ]
  },
  {
   "cell_type": "markdown",
   "id": "34050a08-387d-4758-838f-95974ae7c8ad",
   "metadata": {},
   "source": [
    "# 5- Performance evaluation:"
   ]
  },
  {
   "cell_type": "code",
   "execution_count": 53,
   "id": "796e6c5c-9772-446d-8108-1e9e69c8638e",
   "metadata": {},
   "outputs": [],
   "source": [
    "from sklearn.model_selection import train_test_split\n",
    "from sklearn.metrics import accuracy_score, precision_score, recall_score, f1_score, roc_auc_score"
   ]
  },
  {
   "cell_type": "code",
   "execution_count": 54,
   "id": "afec3f8c-2a05-455e-8060-156aaf938598",
   "metadata": {},
   "outputs": [],
   "source": [
    "X_train, X_test, y_train, y_test = train_test_split(X, y_bin, test_size=0.3, random_state=23)"
   ]
  },
  {
   "cell_type": "markdown",
   "id": "239f506e-1ff9-4098-ac62-71ab1c43f482",
   "metadata": {},
   "source": [
    "## 5.1- Train:"
   ]
  },
  {
   "cell_type": "code",
   "execution_count": 63,
   "id": "4af08e50-12a6-4344-9f55-1baa91091ccc",
   "metadata": {},
   "outputs": [],
   "source": [
    "model = TwoClassHDDT(max_depth=10).fit(X_train, y_train)"
   ]
  },
  {
   "cell_type": "code",
   "execution_count": 64,
   "id": "82a4261f-a1a8-4118-b149-9969e4d3f8df",
   "metadata": {},
   "outputs": [
    {
     "name": "stdout",
     "output_type": "stream",
     "text": [
      "Accuracy: 1.0\n",
      "Precision: 1.0\n",
      "Recall: 1.0\n",
      "F1-Score: 1.0\n",
      "AUC-ROC: 1.0\n"
     ]
    }
   ],
   "source": [
    "y_pred = model.predict(X_test)\n",
    "y_proba = model.predict_proba(X_test)\n",
    "\n",
    "print(\"Accuracy:\", accuracy_score(y_test, y_pred))\n",
    "print(\"Precision:\", precision_score(y_test, y_pred))\n",
    "print(\"Recall:\", recall_score(y_test, y_pred))\n",
    "print(\"F1-Score:\", f1_score(y_test, y_pred))\n",
    "print(\"AUC-ROC:\", roc_auc_score(y_test, y_proba))"
   ]
  },
  {
   "cell_type": "code",
   "execution_count": 65,
   "id": "5613405a-2aa3-4530-9a64-6c43bf4271a1",
   "metadata": {},
   "outputs": [
    {
     "name": "stdout",
     "output_type": "stream",
     "text": [
      "              precision    recall  f1-score   support\n",
      "\n",
      "           0       1.00      1.00      1.00     14027\n",
      "           1       1.00      1.00      1.00      1192\n",
      "\n",
      "    accuracy                           1.00     15219\n",
      "   macro avg       1.00      1.00      1.00     15219\n",
      "weighted avg       1.00      1.00      1.00     15219\n",
      "\n"
     ]
    }
   ],
   "source": [
    "from sklearn.metrics import classification_report\n",
    "\n",
    "print(classification_report(y_test, y_pred))"
   ]
  },
  {
   "cell_type": "markdown",
   "id": "b4a9ef58-87fb-41a0-8200-6e33c68b2735",
   "metadata": {},
   "source": [
    "# 6- OVO (One Versus One) and OVA (One Versus All):"
   ]
  },
  {
   "cell_type": "code",
   "execution_count": null,
   "id": "26788a44-b6d3-4e25-baca-120fa429b429",
   "metadata": {},
   "outputs": [],
   "source": []
  },
  {
   "cell_type": "code",
   "execution_count": null,
   "id": "70dc7fbf-295d-401b-8692-7bf31f7c73cd",
   "metadata": {},
   "outputs": [],
   "source": []
  },
  {
   "cell_type": "code",
   "execution_count": null,
   "id": "935c7c5d-c829-4e18-aadf-bd027edfbe61",
   "metadata": {},
   "outputs": [],
   "source": []
  },
  {
   "cell_type": "code",
   "execution_count": null,
   "id": "a62d7c30-dd8e-4e45-8e88-a41caf7d52e4",
   "metadata": {},
   "outputs": [],
   "source": []
  },
  {
   "cell_type": "code",
   "execution_count": null,
   "id": "bb7d83dc-6f4e-4788-8af1-f108bef603d0",
   "metadata": {},
   "outputs": [],
   "source": []
  },
  {
   "cell_type": "code",
   "execution_count": null,
   "id": "b15aff56-5831-4263-8541-1748aec8b669",
   "metadata": {},
   "outputs": [],
   "source": []
  }
 ],
 "metadata": {
  "kernelspec": {
   "display_name": "Python 3 (ipykernel)",
   "language": "python",
   "name": "python3"
  },
  "language_info": {
   "codemirror_mode": {
    "name": "ipython",
    "version": 3
   },
   "file_extension": ".py",
   "mimetype": "text/x-python",
   "name": "python",
   "nbconvert_exporter": "python",
   "pygments_lexer": "ipython3",
   "version": "3.12.3"
  }
 },
 "nbformat": 4,
 "nbformat_minor": 5
}
