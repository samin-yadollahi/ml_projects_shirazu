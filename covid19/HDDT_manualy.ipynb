{
 "cells": [
  {
   "cell_type": "code",
   "execution_count": 9,
   "id": "8305f25e-e80a-4cea-8c37-ffbbacb4ba5f",
   "metadata": {},
   "outputs": [],
   "source": [
    "import numpy as np\n",
    "import math"
   ]
  },
  {
   "cell_type": "code",
   "execution_count": 3,
   "id": "5eaa4e69-5cc4-41bf-9371-c6994526c0a0",
   "metadata": {},
   "outputs": [],
   "source": [
    "class Node:\n",
    "    def __init__(self, feature_index=None, threshold=None, left=None, right=None, value=None):\n",
    "        self.feature_index = feature_index  # Index of feature to split on\n",
    "        self.threshold = threshold         # Threshold value for the split\n",
    "        self.left = left                   # Left child node\n",
    "        self.right = right                 # Right child node\n",
    "        self.value = value                 # Value if leaf node (class prediction)"
   ]
  },
  {
   "cell_type": "code",
   "execution_count": 4,
   "id": "69239e5b-d8f1-49cd-bbc0-e48415c657cc",
   "metadata": {},
   "outputs": [],
   "source": [
    "class HDDT:\n",
    "    def __init__(self, min_samples_split=2, max_depth=100):\n",
    "        self.min_samples_split = min_samples_split\n",
    "        self.max_depth = max_depth\n",
    "        self.root = None\n",
    "        \n",
    "    def fit(self, X, y):\n",
    "        self.root = self._grow_tree(X, y)\n",
    "        \n",
    "    def predict(self, X):\n",
    "        return np.array([self._traverse_tree(x, self.root) for x in X])\n",
    "    \n",
    "    def _grow_tree(self, X, y, depth=0):\n",
    "        n_samples, n_features = X.shape\n",
    "        n_classes = len(np.unique(y))\n",
    "        \n",
    "        # Stopping criteria\n",
    "        if (depth >= self.max_depth or n_samples < self.min_samples_split or n_classes == 1):\n",
    "            leaf_value = self._most_common_label(y)\n",
    "            return Node(value=leaf_value)\n",
    "        \n",
    "        # Find best split\n",
    "        best_feature, best_threshold = self._best_split(X, y)\n",
    "        \n",
    "        if best_feature is None:\n",
    "            leaf_value = self._most_common_label(y)\n",
    "            return Node(value=leaf_value)\n",
    "        \n",
    "        # Split the dataset\n",
    "        left_idxs = X[:, best_feature] <= best_threshold\n",
    "        right_idxs = X[:, best_feature] > best_threshold\n",
    "        \n",
    "        left = self._grow_tree(X[left_idxs], y[left_idxs], depth+1)\n",
    "        right = self._grow_tree(X[right_idxs], y[right_idxs], depth+1)\n",
    "        \n",
    "        return Node(best_feature, best_threshold, left, right)\n",
    "    \n",
    "    def _best_split(self, X, y):\n",
    "        best_hellinger = -1\n",
    "        best_feature = None\n",
    "        best_threshold = None\n",
    "        \n",
    "        n_features = X.shape[1]\n",
    "        \n",
    "        for feature_idx in range(n_features):\n",
    "            thresholds = np.unique(X[:, feature_idx])\n",
    "            \n",
    "            for threshold in thresholds:\n",
    "                # Split the data\n",
    "                left_idxs = X[:, feature_idx] <= threshold\n",
    "                right_idxs = X[:, feature_idx] > threshold\n",
    "                \n",
    "                if len(y[left_idxs]) == 0 or len(y[right_idxs]) == 0:\n",
    "                    continue\n",
    "                \n",
    "                # Calculate Hellinger distance\n",
    "                current_hellinger = self._hellinger_distance(y[left_idxs], y[right_idxs])\n",
    "                \n",
    "                if current_hellinger > best_hellinger:\n",
    "                    best_hellinger = current_hellinger\n",
    "                    best_feature = feature_idx\n",
    "                    best_threshold = threshold\n",
    "                    \n",
    "        return best_feature, best_threshold\n",
    "    \n",
    "    def _hellinger_distance(self, y_left, y_right):\n",
    "        # Calculate class distributions for left and right splits\n",
    "        left_counts = np.bincount(y_left)\n",
    "        right_counts = np.bincount(y_right)\n",
    "        \n",
    "        # Normalize to get probabilities\n",
    "        p_left = left_counts / len(y_left)\n",
    "        p_right = right_counts / len(y_right)\n",
    "        \n",
    "        # Make sure both arrays have the same length (for binary classification)\n",
    "        max_length = max(len(p_left), len(p_right))\n",
    "        p_left = np.pad(p_left, (0, max_length - len(p_left)), 'constant')\n",
    "        p_right = np.pad(p_right, (0, max_length - len(p_right)), 'constant')\n",
    "        \n",
    "        # Calculate Hellinger distance\n",
    "        hellinger = np.sqrt(np.sum((np.sqrt(p_left) - np.sqrt(p_right))**2)) / math.sqrt(2)\n",
    "        \n",
    "        return hellinger\n",
    "    \n",
    "    def _most_common_label(self, y):\n",
    "        counts = np.bincount(y)\n",
    "        return np.argmax(counts)\n",
    "    \n",
    "    def _traverse_tree(self, x, node):\n",
    "        if node.value is not None:\n",
    "            return node.value\n",
    "        \n",
    "        if x[node.feature_index] <= node.threshold:\n",
    "            return self._traverse_tree(x, node.left)\n",
    "        else:\n",
    "            return self._traverse_tree(x, node.right)"
   ]
  },
  {
   "cell_type": "markdown",
   "id": "81b88059-d504-4bb0-afb8-ba115aa875e9",
   "metadata": {},
   "source": [
    "# Multiclass to Binary class conversion:"
   ]
  },
  {
   "cell_type": "code",
   "execution_count": 10,
   "id": "05500cca-f24a-4ca0-b750-0f28cf94962b",
   "metadata": {},
   "outputs": [],
   "source": [
    "def convert_to_binary(y, target_class):\n",
    "    y_binary = np.where(y == target_class, 1, 0)  # 1 for target class, 0 for others -> OvA\n",
    "    return y_binary"
   ]
  },
  {
   "cell_type": "markdown",
   "id": "86f6c0e5-be4e-4eda-a158-0f63b4e4e0fe",
   "metadata": {},
   "source": [
    "# use the code:"
   ]
  },
  {
   "cell_type": "code",
   "execution_count": 5,
   "id": "2b585043-6dc5-4c57-85b3-f40067245ffc",
   "metadata": {},
   "outputs": [],
   "source": [
    "from sklearn.datasets import make_classification\n",
    "\n",
    "X, y = make_classification(n_samples=1000, n_features=10, n_classes=3, \n",
    "                          weights=[0.6, 0.1, 0.3], random_state=42)"
   ]
  },
  {
   "cell_type": "code",
   "execution_count": 6,
   "id": "c09f9952-de2a-43b7-8be5-04a6d00c5e21",
   "metadata": {},
   "outputs": [],
   "source": [
    "# Train HDDT\n",
    "hddt = HDDT(min_samples_split=5, max_depth=5)\n",
    "hddt.fit(X, y)"
   ]
  },
  {
   "cell_type": "code",
   "execution_count": 7,
   "id": "c1bd7118-842c-4c9d-a5d7-6206c7cbd1b4",
   "metadata": {},
   "outputs": [],
   "source": [
    "# Make predictions\n",
    "predictions = hddt.predict(X)"
   ]
  },
  {
   "cell_type": "code",
   "execution_count": 8,
   "id": "5df6dccd-75f5-4778-a9e8-14864e28c5dc",
   "metadata": {},
   "outputs": [
    {
     "name": "stdout",
     "output_type": "stream",
     "text": [
      "              precision    recall  f1-score   support\n",
      "\n",
      "           0       0.93      1.00      0.96       897\n",
      "           1       1.00      0.36      0.53       103\n",
      "\n",
      "    accuracy                           0.93      1000\n",
      "   macro avg       0.97      0.68      0.75      1000\n",
      "weighted avg       0.94      0.93      0.92      1000\n",
      "\n"
     ]
    }
   ],
   "source": [
    "# Evaluate\n",
    "from sklearn.metrics import classification_report\n",
    "\n",
    "print(classification_report(y, predictions))"
   ]
  },
  {
   "cell_type": "code",
   "execution_count": null,
   "id": "75ed1bf4-0ec9-45c5-8b90-246b57e2ec4b",
   "metadata": {},
   "outputs": [],
   "source": []
  },
  {
   "cell_type": "code",
   "execution_count": null,
   "id": "b33e4b2e-e1b5-4dc5-a695-09d0b9831bf8",
   "metadata": {},
   "outputs": [],
   "source": []
  },
  {
   "cell_type": "code",
   "execution_count": null,
   "id": "e709e927-3d05-45f8-b9ab-ecbe7a3a1ee4",
   "metadata": {},
   "outputs": [],
   "source": []
  },
  {
   "cell_type": "code",
   "execution_count": null,
   "id": "44089344-d956-4cdb-a9f5-3075a11942b9",
   "metadata": {},
   "outputs": [],
   "source": []
  },
  {
   "cell_type": "code",
   "execution_count": null,
   "id": "0cf30283-f4fc-483a-b503-eb7bc3a9cbe7",
   "metadata": {},
   "outputs": [],
   "source": []
  },
  {
   "cell_type": "code",
   "execution_count": null,
   "id": "566c9543-7e5f-418d-8993-d238e463eac0",
   "metadata": {},
   "outputs": [],
   "source": []
  }
 ],
 "metadata": {
  "kernelspec": {
   "display_name": "Python 3 (ipykernel)",
   "language": "python",
   "name": "python3"
  },
  "language_info": {
   "codemirror_mode": {
    "name": "ipython",
    "version": 3
   },
   "file_extension": ".py",
   "mimetype": "text/x-python",
   "name": "python",
   "nbconvert_exporter": "python",
   "pygments_lexer": "ipython3",
   "version": "3.10.4"
  }
 },
 "nbformat": 4,
 "nbformat_minor": 5
}
